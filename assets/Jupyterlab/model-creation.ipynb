{
 "cells": [
  {
   "cell_type": "code",
   "execution_count": 12,
   "id": "progressive-importance",
   "metadata": {
    "id": "e1916172-e17b-4d98-8316-37d12b01bedb",
    "tags": []
   },
   "outputs": [],
   "source": [
    "import traceback\n",
    "\n",
    "wml_credentials = {\n",
    "    \"username\":\"admin\",\n",
    "    \"password\":\"password\",\n",
    "    \"instance_id\" : \"openshift\",\n",
    "    \"url\": \"https://cpd-cpd-402.apps.ocp48nfsqacluster2.cp.fyre.ibm.com\", # PUT YOUR CPD URL HERE\n",
    "    \"version\": \"4.0\"\n",
    "}\n",
    "\n",
    "from ibm_watson_machine_learning import APIClient\n",
    "client = APIClient(wml_credentials)"
   ]
  },
  {
   "cell_type": "code",
   "execution_count": 13,
   "id": "freelance-filing",
   "metadata": {
    "id": "4acf459b-df00-4fb6-81a4-49c99e0f3a7b",
    "tags": []
   },
   "outputs": [],
   "source": [
    "# Set pretrained file directory\n",
    "wml_artifacts_dir = \"/userfs/assets/data_asset/\""
   ]
  },
  {
   "cell_type": "code",
   "execution_count": 14,
   "id": "exempt-alignment",
   "metadata": {
    "id": "cae5afb1-bfb7-4fd5-8e36-6a817fd276dc",
    "tags": []
   },
   "outputs": [
    {
     "data": {
      "text/plain": [
       "'SUCCESS'"
      ]
     },
     "execution_count": 14,
     "metadata": {},
     "output_type": "execute_result"
    }
   ],
   "source": [
    "# Set default space or project\n",
    "#client.set.default_space('SPACE ID')\n",
    "client.set.default_project('19fb73a1-d33e-46f8-a5a5-b9a6e9418d5e/')"
   ]
  },
  {
   "cell_type": "code",
   "execution_count": 15,
   "id": "complimentary-treasure",
   "metadata": {
    "id": "3f295867-9ea6-49e8-a884-6f847deabd25",
    "tags": []
   },
   "outputs": [],
   "source": [
    "model_list = [\n",
    "    {'runtime': 'default_py3.8',\n",
    "  'type': 'scikit-learn_0.23',\n",
    "  'name': 'scikit-learn_0.23_model',\n",
    "  'file': 'scikit-23-boston-pretrained.tar.gz',\n",
    "  'payload' : [{\"values\":[[0.00632, 18.0, 2.31, 0.0, 0.538, 6.575, 65.2, 4.09, 1.0, 296.0, 15.3, 396.9, 4.98], [0.02731, 0.0, 7.07, 0.0, 0.469, 6.421, 78.9, 4.9671, 2.0, 242.0, 17.8, 396.9, 9.14], [0.02729, 0.0, 7.07, 0.0, 0.469, 7.185, 61.1, 4.9671, 2.0, 242.0, 17.8, 392.83, 4.03], [0.03237, 0.0, 2.18, 0.0, 0.458, 6.998, 45.8, 6.0622, 3.0, 222.0, 18.7, 394.63, 2.94], [0.06905, 0.0, 2.18, 0.0, 0.458, 7.147, 54.2, 6.0622, 3.0, 222.0, 18.7, 396.9, 5.33]]}]\n",
    "},\n",
    "{'runtime': 'default_py3.7_opence',\n",
    "  'type': 'tensorflow_2.4',\n",
    "  'name': 'pretrained-tf-2_4-opence-iris-model',\n",
    "  'file': 'iris_keras_sequential_2.4.tar.gz',\n",
    "  'payload' : [{\n",
    "\t\"values\": [\n",
    "[5.7, 2.9, 4.2, 1.3]\n",
    "       ]\n",
    "}]},\n",
    "{'runtime': 'tensorflow_2.4-py3.7',\n",
    "  'type': 'tensorflow_2.4',\n",
    "  'name': 'pretrained-tf-2_4-non-default-iris-model',\n",
    "  'file': 'iris_keras_sequential_2.4.tar.gz',\n",
    "  'payload' : [{\n",
    "\t\"values\": [\n",
    "[5.7, 2.9, 4.2, 1.3]\n",
    "       ]\n",
    "}]}\n",
    "]"
   ]
  },
  {
   "cell_type": "code",
   "execution_count": 16,
   "id": "welsh-birthday",
   "metadata": {
    "id": "9a65b6f5-6597-4208-9528-30337e457024",
    "tags": []
   },
   "outputs": [
    {
     "name": "stdout",
     "output_type": "stream",
     "text": [
      "\n",
      "Creating model...\n",
      "\n"
     ]
    },
    {
     "ename": "Exception",
     "evalue": "Failed retrieve software spec uid for scikit-learn_0.23_model. Exception: Traceback (most recent call last):\n  File \"<ipython-input-16-cce3ec022e00>\", line 20, in <module>\n    software_spec_uid = client.software_specifications.get_uid_by_name(model['runtime'])\n  File \"/opt/ibm/conda/miniconda/lib/python/site-packages/ibm_watson_machine_learning/sw_spec.py\", line 366, in get_uid_by_name\n    total_values = self._handle_response(200, u'list assets', response)[\"total_results\"]\n  File \"/opt/ibm/conda/miniconda/lib/python/site-packages/ibm_watson_machine_learning/wml_resource.py\", line 73, in _handle_response\n    raise ApiRequestFailure(u'Failure during {}.'.format(operationName), response)\nibm_watson_machine_learning.wml_client_error.ApiRequestFailure: Failure during list assets. (GET https://cpd-cpd-402.apps.ocp48nfsqacluster2.cp.fyre.ibm.com/v2/software_specifications?version=2021-06-24&project_id=19fb73a1-d33e-46f8-a5a5-b9a6e9418d5e%2F&userfs=true&name=default_py3.8)\nStatus code: 400, body: {\"trace\":\"0c649563-9643-412d-a98e-1d21b0117f39\",\"errors\":[{\"code\":\"invalid_type\",\"message\":\"The `project_id` field needs to be a uuid v4, but is 19fb73a1-d33e-46f8-a5a5-b9a6e9418d5e/\",\"target\":{\"type\":\"field\",\"name\":\"project_id\"}}]}\n",
     "output_type": "error",
     "traceback": [
      "\u001b[0;31m---------------------------------------------------------------------------\u001b[0m",
      "\u001b[0;31mApiRequestFailure\u001b[0m                         Traceback (most recent call last)",
      "\u001b[0;32m/usr/local/share/jupyter/kernels/python38/scripts/launch_ipykernel.py\u001b[0m in \u001b[0;36m<module>\u001b[0;34m\u001b[0m\n\u001b[1;32m     19\u001b[0m         \u001b[0;31m# Get the software specification for the model if available\u001b[0m\u001b[0;34m\u001b[0m\u001b[0;34m\u001b[0m\u001b[0;34m\u001b[0m\u001b[0m\n\u001b[0;32m---> 20\u001b[0;31m         \u001b[0msoftware_spec_uid\u001b[0m \u001b[0;34m=\u001b[0m \u001b[0mclient\u001b[0m\u001b[0;34m.\u001b[0m\u001b[0msoftware_specifications\u001b[0m\u001b[0;34m.\u001b[0m\u001b[0mget_uid_by_name\u001b[0m\u001b[0;34m(\u001b[0m\u001b[0mmodel\u001b[0m\u001b[0;34m[\u001b[0m\u001b[0;34m'runtime'\u001b[0m\u001b[0;34m]\u001b[0m\u001b[0;34m)\u001b[0m\u001b[0;34m\u001b[0m\u001b[0;34m\u001b[0m\u001b[0m\n\u001b[0m\u001b[1;32m     21\u001b[0m     \u001b[0;32mexcept\u001b[0m \u001b[0mBaseException\u001b[0m\u001b[0;34m:\u001b[0m\u001b[0;34m\u001b[0m\u001b[0;34m\u001b[0m\u001b[0m\n",
      "\u001b[0;32m/opt/ibm/conda/miniconda/lib/python/site-packages/ibm_watson_machine_learning/sw_spec.py\u001b[0m in \u001b[0;36mget_uid_by_name\u001b[0;34m(self, sw_spec_name)\u001b[0m\n\u001b[1;32m    365\u001b[0m \u001b[0;34m\u001b[0m\u001b[0m\n\u001b[0;32m--> 366\u001b[0;31m             \u001b[0mtotal_values\u001b[0m \u001b[0;34m=\u001b[0m \u001b[0mself\u001b[0m\u001b[0;34m.\u001b[0m\u001b[0m_handle_response\u001b[0m\u001b[0;34m(\u001b[0m\u001b[0;36m200\u001b[0m\u001b[0;34m,\u001b[0m \u001b[0;34mu'list assets'\u001b[0m\u001b[0;34m,\u001b[0m \u001b[0mresponse\u001b[0m\u001b[0;34m)\u001b[0m\u001b[0;34m[\u001b[0m\u001b[0;34m\"total_results\"\u001b[0m\u001b[0;34m]\u001b[0m\u001b[0;34m\u001b[0m\u001b[0;34m\u001b[0m\u001b[0m\n\u001b[0m\u001b[1;32m    367\u001b[0m             \u001b[0;32mif\u001b[0m \u001b[0mtotal_values\u001b[0m \u001b[0;34m!=\u001b[0m \u001b[0;36m0\u001b[0m\u001b[0;34m:\u001b[0m\u001b[0;34m\u001b[0m\u001b[0;34m\u001b[0m\u001b[0m\n",
      "\u001b[0;32m/opt/ibm/conda/miniconda/lib/python/site-packages/ibm_watson_machine_learning/wml_resource.py\u001b[0m in \u001b[0;36m_handle_response\u001b[0;34m(self, expected_status_code, operationName, response, json_response)\u001b[0m\n\u001b[1;32m     72\u001b[0m         \u001b[0;32melse\u001b[0m\u001b[0;34m:\u001b[0m\u001b[0;34m\u001b[0m\u001b[0;34m\u001b[0m\u001b[0m\n\u001b[0;32m---> 73\u001b[0;31m             \u001b[0;32mraise\u001b[0m \u001b[0mApiRequestFailure\u001b[0m\u001b[0;34m(\u001b[0m\u001b[0;34mu'Failure during {}.'\u001b[0m\u001b[0;34m.\u001b[0m\u001b[0mformat\u001b[0m\u001b[0;34m(\u001b[0m\u001b[0moperationName\u001b[0m\u001b[0;34m)\u001b[0m\u001b[0;34m,\u001b[0m \u001b[0mresponse\u001b[0m\u001b[0;34m)\u001b[0m\u001b[0;34m\u001b[0m\u001b[0;34m\u001b[0m\u001b[0m\n\u001b[0m\u001b[1;32m     74\u001b[0m \u001b[0;34m\u001b[0m\u001b[0m\n",
      "\u001b[0;31mApiRequestFailure\u001b[0m: Failure during list assets. (GET https://cpd-cpd-402.apps.ocp48nfsqacluster2.cp.fyre.ibm.com/v2/software_specifications?version=2021-06-24&project_id=19fb73a1-d33e-46f8-a5a5-b9a6e9418d5e%2F&userfs=true&name=default_py3.8)\nStatus code: 400, body: {\"trace\":\"0c649563-9643-412d-a98e-1d21b0117f39\",\"errors\":[{\"code\":\"invalid_type\",\"message\":\"The `project_id` field needs to be a uuid v4, but is 19fb73a1-d33e-46f8-a5a5-b9a6e9418d5e/\",\"target\":{\"type\":\"field\",\"name\":\"project_id\"}}]}",
      "\nDuring handling of the above exception, another exception occurred:\n",
      "\u001b[0;31mException\u001b[0m                                 Traceback (most recent call last)",
      "\u001b[0;32m/usr/local/share/jupyter/kernels/python38/scripts/launch_ipykernel.py\u001b[0m in \u001b[0;36m<module>\u001b[0;34m\u001b[0m\n\u001b[1;32m     20\u001b[0m         \u001b[0msoftware_spec_uid\u001b[0m \u001b[0;34m=\u001b[0m \u001b[0mclient\u001b[0m\u001b[0;34m.\u001b[0m\u001b[0msoftware_specifications\u001b[0m\u001b[0;34m.\u001b[0m\u001b[0mget_uid_by_name\u001b[0m\u001b[0;34m(\u001b[0m\u001b[0mmodel\u001b[0m\u001b[0;34m[\u001b[0m\u001b[0;34m'runtime'\u001b[0m\u001b[0;34m]\u001b[0m\u001b[0;34m)\u001b[0m\u001b[0;34m\u001b[0m\u001b[0;34m\u001b[0m\u001b[0m\n\u001b[1;32m     21\u001b[0m     \u001b[0;32mexcept\u001b[0m \u001b[0mBaseException\u001b[0m\u001b[0;34m:\u001b[0m\u001b[0;34m\u001b[0m\u001b[0;34m\u001b[0m\u001b[0m\n\u001b[0;32m---> 22\u001b[0;31m         \u001b[0;32mraise\u001b[0m \u001b[0mException\u001b[0m \u001b[0;34m(\u001b[0m\u001b[0;34m\"Failed retrieve software spec uid for \"\u001b[0m \u001b[0;34m+\u001b[0m \u001b[0mmodel_name\u001b[0m \u001b[0;34m+\u001b[0m \u001b[0;34m\". Exception: \"\u001b[0m \u001b[0;34m+\u001b[0m \u001b[0mtraceback\u001b[0m\u001b[0;34m.\u001b[0m\u001b[0mformat_exc\u001b[0m\u001b[0;34m(\u001b[0m\u001b[0;34m)\u001b[0m\u001b[0;34m)\u001b[0m\u001b[0;34m\u001b[0m\u001b[0;34m\u001b[0m\u001b[0m\n\u001b[0m\u001b[1;32m     23\u001b[0m \u001b[0;34m\u001b[0m\u001b[0m\n\u001b[1;32m     24\u001b[0m     \u001b[0;32mtry\u001b[0m\u001b[0;34m:\u001b[0m\u001b[0;34m\u001b[0m\u001b[0;34m\u001b[0m\u001b[0m\n",
      "\u001b[0;31mException\u001b[0m: Failed retrieve software spec uid for scikit-learn_0.23_model. Exception: Traceback (most recent call last):\n  File \"<ipython-input-16-cce3ec022e00>\", line 20, in <module>\n    software_spec_uid = client.software_specifications.get_uid_by_name(model['runtime'])\n  File \"/opt/ibm/conda/miniconda/lib/python/site-packages/ibm_watson_machine_learning/sw_spec.py\", line 366, in get_uid_by_name\n    total_values = self._handle_response(200, u'list assets', response)[\"total_results\"]\n  File \"/opt/ibm/conda/miniconda/lib/python/site-packages/ibm_watson_machine_learning/wml_resource.py\", line 73, in _handle_response\n    raise ApiRequestFailure(u'Failure during {}.'.format(operationName), response)\nibm_watson_machine_learning.wml_client_error.ApiRequestFailure: Failure during list assets. (GET https://cpd-cpd-402.apps.ocp48nfsqacluster2.cp.fyre.ibm.com/v2/software_specifications?version=2021-06-24&project_id=19fb73a1-d33e-46f8-a5a5-b9a6e9418d5e%2F&userfs=true&name=default_py3.8)\nStatus code: 400, body: {\"trace\":\"0c649563-9643-412d-a98e-1d21b0117f39\",\"errors\":[{\"code\":\"invalid_type\",\"message\":\"The `project_id` field needs to be a uuid v4, but is 19fb73a1-d33e-46f8-a5a5-b9a6e9418d5e/\",\"target\":{\"type\":\"field\",\"name\":\"project_id\"}}]}\n"
     ]
    }
   ],
   "source": [
    "# CREATE MODELS ONLY\n",
    "\n",
    "from random import randint\n",
    "# Create models in the space\n",
    "# Initialize name, detail, and guid lists\n",
    "model_guid_list = []\n",
    "model_name_list = []\n",
    "model_detail_dict = {}\n",
    "\n",
    "for model in model_list:\n",
    "    # Initialize cleanup lists\n",
    "    asset_cleanup = []\n",
    "    deployment_cleanup = []\n",
    "    print(\"\\nCreating model...\\n\")\n",
    "    \n",
    "    model_name = model['name']\n",
    "    \n",
    "    try:\n",
    "        # Get the software specification for the model if available\n",
    "        software_spec_uid = client.software_specifications.get_uid_by_name(model['runtime'])\n",
    "    except BaseException:\n",
    "        raise Exception (\"Failed retrieve software spec uid for \" + model_name + \". Exception: \" + traceback.format_exc())\n",
    "    \n",
    "    try:\n",
    "        # Save the model\n",
    "        if software_spec_uid == \"Not Found\":\n",
    "            print(\"Software spec for \" + model['runtime'] + \" not found. Creating model using runtime\")\n",
    "            \n",
    "            unique_model_name = model['name']\n",
    "            \n",
    "            meta_props={\n",
    "             client.repository.ModelMetaNames.NAME: unique_model_name,\n",
    "             client.repository.ModelMetaNames.RUNTIME_UID: model['runtime'],\n",
    "             client.repository.ModelMetaNames.TYPE: model['type']\n",
    "            }\n",
    "\n",
    "            created_model_details = client.repository.store_model(wml_artifacts_dir+model[\"file\"], meta_props)\n",
    "        else:\n",
    "            print(\"Software specification for \" + model['runtime'] + \" found. Creating model with software specification\")\n",
    "            \n",
    "            unique_model_name = model['name']\n",
    "                                                    \n",
    "            meta_props={\n",
    "             client.repository.ModelMetaNames.NAME: unique_model_name,\n",
    "             client.repository.ModelMetaNames.SOFTWARE_SPEC_UID: software_spec_uid,\n",
    "             client.repository.ModelMetaNames.DESCRIPTION: \"SVT Model with Software Spec\",\n",
    "             client.repository.ModelMetaNames.TYPE: model['type']\n",
    "            }\n",
    "\n",
    "            created_model_details = client.repository.store_model(wml_artifacts_dir+model[\"file\"], meta_props)\n",
    "    except BaseException:\n",
    "        raise Exception (\"Failed to create \" + unique_model_name + \" and save to Repo. Exception: \" + traceback.format_exc())\n",
    "        \n",
    "    #model_name = created_model_details['entity']['name']\n",
    "    \n",
    "    # Add details to a list for later access if neccessary\n",
    "    model_detail_dict.update({unique_model_name : created_model_details})\n",
    "    \n",
    "    # Add to name list for display later\n",
    "    model_name_list.append(unique_model_name)\n",
    "    print(unique_model_name + \" created...\\n\")\n",
    "    \n",
    "    try:\n",
    "        # Get model uid\n",
    "        model_uid = client.repository.get_model_uid(created_model_details)\n",
    "    except BaseException:\n",
    "        raise Exception (\"Failed to retrieve UID for \" + model_name + \". Exception: \" + traceback.format_exc())\n",
    "        \n",
    "    model_guid_list.append(model_uid)\n",
    "    \n",
    "print(\"\\nCompleted model creation.\\n\")"
   ]
  },
  {
   "cell_type": "code",
   "execution_count": null,
   "id": "victorian-wages",
   "metadata": {
    "id": "3a87e7c8-729e-48ed-926c-caf89de7d772"
   },
   "outputs": [],
   "source": []
  }
 ],
 "metadata": {
  "kernelspec": {
   "display_name": "Python 3.8 with Spark",
   "language": "python3",
   "name": "python38"
  },
  "language_info": {
   "codemirror_mode": {
    "name": "ipython",
    "version": 3
   },
   "file_extension": ".py",
   "mimetype": "text/x-python",
   "name": "python",
   "nbconvert_exporter": "python",
   "pygments_lexer": "ipython3",
   "version": "3.8.10"
  }
 },
 "nbformat": 4,
 "nbformat_minor": 5
}
