{
 "cells": [
  {
   "cell_type": "code",
   "execution_count": null,
   "id": "behind-madison",
   "metadata": {
    "id": "1d8ba2d0-bea1-4a95-9d4b-18ee2355c004",
    "tags": []
   },
   "outputs": [],
   "source": [
    "print(paste0('ENV1 : ', Sys.getenv('ENV1')))\n",
    "print(paste0('ENV2 : ', Sys.getenv('ENV2')))\n",
    " \n",
    "\n",
    "\n",
    "#Arguments\n",
    "#!/usr/bin/env Rscript\n",
    "args <- commandArgs(trailingOnly = TRUE)\n",
    "rnorm(n=as.numeric(args[1]), mean=as.numeric(args[2]))"
   ]
  }
 ],
 "metadata": {
  "kernelspec": {
   "display_name": "Python 3.8",
   "language": "python",
   "name": "python3"
  },
  "language_info": {
   "codemirror_mode": {
    "name": "ipython",
    "version": 3
   },
   "file_extension": ".py",
   "mimetype": "text/x-python",
   "name": "python",
   "nbconvert_exporter": "python",
   "pygments_lexer": "ipython3",
   "version": "3.8.10"
  }
 },
 "nbformat": 4,
 "nbformat_minor": 5
}
