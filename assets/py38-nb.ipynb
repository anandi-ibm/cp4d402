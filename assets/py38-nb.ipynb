{
 "cells": [
  {
   "cell_type": "code",
   "execution_count": null,
   "id": "handled-interaction",
   "metadata": {
    "id": "fb4781fc-9f28-4d63-85b3-83ed1e58572a",
    "tags": []
   },
   "outputs": [],
   "source": [
    "import itc_utils.flight_service as itcfs\n",
    "\n",
    "readClient = itcfs.get_flight_client()\n",
    "\n",
    "nb_data_request = {\n",
    "    'data_name': \"\"\"datalake_names.csv\"\"\",\n",
    "    'interaction_properties': {\n",
    "    }\n",
    "}\n",
    "\n",
    "flightInfo = itcfs.get_flight_info(readClient, nb_data_request=nb_data_request)\n",
    "\n",
    "data_df_1 = itcfs.read_pandas_and_concat(readClient, flightInfo)\n",
    "data_df_1.head(10)\n"
   ]
  },
  {
   "cell_type": "code",
   "execution_count": null,
   "id": "vietnamese-pressure",
   "metadata": {
    "id": "0e6c32a5-5b74-459f-b20f-4ffca7d856f9"
   },
   "outputs": [],
   "source": []
  },
  {
   "cell_type": "code",
   "execution_count": null,
   "id": "incoming-insertion",
   "metadata": {
    "id": "13d986b1-28bc-4053-8c36-3c292bb4ee17"
   },
   "outputs": [],
   "source": []
  }
 ],
 "metadata": {
  "kernelspec": {
   "display_name": "Python 3.8",
   "language": "python",
   "name": "python3"
  },
  "language_info": {
   "codemirror_mode": {
    "name": "ipython",
    "version": 3
   },
   "file_extension": ".py",
   "mimetype": "text/x-python",
   "name": "python",
   "nbconvert_exporter": "python",
   "pygments_lexer": "ipython3",
   "version": "3.8.11"
  }
 },
 "nbformat": 4,
 "nbformat_minor": 5
}
